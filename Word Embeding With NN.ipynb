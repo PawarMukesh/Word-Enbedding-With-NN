{
 "cells": [
  {
   "cell_type": "markdown",
   "id": "31cb8137",
   "metadata": {},
   "source": [
    "### Import Necessary Library "
   ]
  },
  {
   "cell_type": "code",
   "execution_count": 1,
   "id": "f0462e9f",
   "metadata": {},
   "outputs": [],
   "source": [
    "import keras\n",
    "from keras.models import Sequential\n",
    "from keras import preprocessing\n",
    "from keras.layers import Flatten, Dense, Embedding\n",
    "from keras.utils import pad_sequences"
   ]
  },
  {
   "cell_type": "markdown",
   "id": "cbfbcaa8",
   "metadata": {},
   "source": [
    "### Loading The Inbuild Data"
   ]
  },
  {
   "cell_type": "code",
   "execution_count": 2,
   "id": "cf3aa662",
   "metadata": {},
   "outputs": [],
   "source": [
    "from keras.datasets import imdb  # Dataset contain a different types of movies review\n",
    "\n",
    "max_features = 10000\n",
    "maxlen = 20\n",
    "\n",
    "\n",
    "# Create a training and testing data\n",
    "(X_train,y_train),(X_test,y_test) = imdb.load_data(num_words=10000)\n",
    "# (train_data, train_labels),(test_data, test_labels) = imdb.load_data(num_words=10000)\n",
    "\n",
    "X_train = keras.utils.pad_sequences(X_train,maxlen=maxlen)\n",
    "X_test  = keras.utils.pad_sequences(X_test,maxlen=maxlen)\n",
    "\n",
    "\n",
    "# Create a Architecture \n",
    "model = Sequential()\n",
    "\n",
    "model.add(Embedding(10000,8,input_length=maxlen))\n",
    "model.add(Flatten())\n",
    "model.add(Dense(1,activation='sigmoid'))"
   ]
  },
  {
   "cell_type": "code",
   "execution_count": 3,
   "id": "7226e98f",
   "metadata": {},
   "outputs": [
    {
     "name": "stdout",
     "output_type": "stream",
     "text": [
      "Model: \"sequential\"\n",
      "_________________________________________________________________\n",
      " Layer (type)                Output Shape              Param #   \n",
      "=================================================================\n",
      " embedding (Embedding)       (None, 20, 8)             80000     \n",
      "                                                                 \n",
      " flatten (Flatten)           (None, 160)               0         \n",
      "                                                                 \n",
      " dense (Dense)               (None, 1)                 161       \n",
      "                                                                 \n",
      "=================================================================\n",
      "Total params: 80,161\n",
      "Trainable params: 80,161\n",
      "Non-trainable params: 0\n",
      "_________________________________________________________________\n"
     ]
    }
   ],
   "source": [
    "# Getting the summary of model\n",
    "model.summary()"
   ]
  },
  {
   "cell_type": "markdown",
   "id": "445c93c2",
   "metadata": {},
   "source": [
    "### Compile Model"
   ]
  },
  {
   "cell_type": "code",
   "execution_count": 4,
   "id": "02badd32",
   "metadata": {},
   "outputs": [],
   "source": [
    "model.compile(loss='binary_crossentropy',optimizer='rmsprop',metrics=['accuracy'])"
   ]
  },
  {
   "cell_type": "markdown",
   "id": "1107f163",
   "metadata": {},
   "source": [
    "### Training Model"
   ]
  },
  {
   "cell_type": "code",
   "execution_count": 5,
   "id": "f41801ca",
   "metadata": {},
   "outputs": [
    {
     "name": "stdout",
     "output_type": "stream",
     "text": [
      "Epoch 1/10\n",
      "625/625 [==============================] - 2s 2ms/step - loss: 0.6763 - accuracy: 0.5937 - val_loss: 0.6362 - val_accuracy: 0.6814\n",
      "Epoch 2/10\n",
      "625/625 [==============================] - 1s 1ms/step - loss: 0.5612 - accuracy: 0.7388 - val_loss: 0.5374 - val_accuracy: 0.7258\n",
      "Epoch 3/10\n",
      "625/625 [==============================] - 1s 1ms/step - loss: 0.4717 - accuracy: 0.7814 - val_loss: 0.5059 - val_accuracy: 0.7446\n",
      "Epoch 4/10\n",
      "625/625 [==============================] - 1s 1ms/step - loss: 0.4256 - accuracy: 0.8072 - val_loss: 0.4950 - val_accuracy: 0.7518\n",
      "Epoch 5/10\n",
      "625/625 [==============================] - 1s 1ms/step - loss: 0.3944 - accuracy: 0.8245 - val_loss: 0.4932 - val_accuracy: 0.7566\n",
      "Epoch 6/10\n",
      "625/625 [==============================] - 1s 1ms/step - loss: 0.3696 - accuracy: 0.8382 - val_loss: 0.4971 - val_accuracy: 0.7572\n",
      "Epoch 7/10\n",
      "625/625 [==============================] - 1s 1ms/step - loss: 0.3474 - accuracy: 0.8518 - val_loss: 0.5048 - val_accuracy: 0.7584\n",
      "Epoch 8/10\n",
      "625/625 [==============================] - 1s 1ms/step - loss: 0.3274 - accuracy: 0.8623 - val_loss: 0.5102 - val_accuracy: 0.7588\n",
      "Epoch 9/10\n",
      "625/625 [==============================] - 1s 1ms/step - loss: 0.3092 - accuracy: 0.8711 - val_loss: 0.5179 - val_accuracy: 0.7556\n",
      "Epoch 10/10\n",
      "625/625 [==============================] - 1s 1ms/step - loss: 0.2919 - accuracy: 0.8795 - val_loss: 0.5286 - val_accuracy: 0.7522\n"
     ]
    }
   ],
   "source": [
    "history = model.fit(X_train,y_train,epochs=10,batch_size=32,validation_split=0.2,verbose=1 )"
   ]
  },
  {
   "cell_type": "code",
   "execution_count": 10,
   "id": "ed025762",
   "metadata": {},
   "outputs": [
    {
     "data": {
      "text/plain": [
       "[<tf.Variable 'embedding/embeddings:0' shape=(10000, 8) dtype=float32, numpy=\n",
       " array([[-0.0616175 ,  0.09793058,  0.03534253, ..., -0.00738075,\n",
       "         -0.08110262,  0.05447012],\n",
       "        [ 0.00805973,  0.02537897,  0.02778775, ...,  0.00663361,\n",
       "         -0.02663593,  0.00696786],\n",
       "        [ 0.0321675 ,  0.05065076,  0.00572325, ..., -0.00915996,\n",
       "         -0.00864303,  0.08322858],\n",
       "        ...,\n",
       "        [-0.08994734, -0.11079894,  0.02758189, ..., -0.04769049,\n",
       "         -0.10283931, -0.01479265],\n",
       "        [ 0.0160183 ,  0.10170104,  0.07157064, ..., -0.02265514,\n",
       "         -0.06744894,  0.07765069],\n",
       "        [ 0.00948982, -0.08033878,  0.01540775, ...,  0.04831139,\n",
       "          0.07994629, -0.03577187]], dtype=float32)>,\n",
       " <tf.Variable 'dense/kernel:0' shape=(160, 1) dtype=float32, numpy=\n",
       " array([[-0.2521877 ],\n",
       "        [ 0.00888523],\n",
       "        [-1.1230137 ],\n",
       "        [-0.9647394 ],\n",
       "        [-1.1172715 ],\n",
       "        [-0.9829704 ],\n",
       "        [ 1.1621641 ],\n",
       "        [-0.22131626],\n",
       "        [ 0.85170615],\n",
       "        [ 0.2893567 ],\n",
       "        [-0.68294585],\n",
       "        [ 0.9198704 ],\n",
       "        [-0.01327516],\n",
       "        [ 0.6309184 ],\n",
       "        [ 1.0608696 ],\n",
       "        [-0.6973338 ],\n",
       "        [ 0.90105647],\n",
       "        [-0.06360181],\n",
       "        [-0.5272678 ],\n",
       "        [-0.13530988],\n",
       "        [-0.7840323 ],\n",
       "        [ 0.6265447 ],\n",
       "        [ 0.6795879 ],\n",
       "        [-0.5411024 ],\n",
       "        [ 0.9048853 ],\n",
       "        [ 0.92410815],\n",
       "        [-0.37592575],\n",
       "        [ 0.9000905 ],\n",
       "        [-0.5021142 ],\n",
       "        [ 0.7962466 ],\n",
       "        [ 1.0979509 ],\n",
       "        [-0.9417173 ],\n",
       "        [ 0.9729445 ],\n",
       "        [-0.26357442],\n",
       "        [-1.3181186 ],\n",
       "        [ 0.8730418 ],\n",
       "        [-0.3955969 ],\n",
       "        [-1.0717201 ],\n",
       "        [ 0.05128069],\n",
       "        [-0.11075405],\n",
       "        [ 0.39831132],\n",
       "        [-0.9160279 ],\n",
       "        [-0.52046126],\n",
       "        [ 1.1752008 ],\n",
       "        [-0.3286603 ],\n",
       "        [ 0.8658104 ],\n",
       "        [ 0.48245904],\n",
       "        [-0.08002234],\n",
       "        [ 0.7771222 ],\n",
       "        [-0.3425379 ],\n",
       "        [-0.92440647],\n",
       "        [ 0.9332089 ],\n",
       "        [-0.85249084],\n",
       "        [ 0.5907104 ],\n",
       "        [ 0.4841115 ],\n",
       "        [-0.12652765],\n",
       "        [-0.3707572 ],\n",
       "        [-0.79249024],\n",
       "        [-0.84996414],\n",
       "        [-1.1292197 ],\n",
       "        [-0.882787  ],\n",
       "        [-0.76517546],\n",
       "        [-0.7410169 ],\n",
       "        [-1.1404415 ],\n",
       "        [ 0.42121986],\n",
       "        [-1.0092124 ],\n",
       "        [-0.15981486],\n",
       "        [ 0.9680016 ],\n",
       "        [-0.12604195],\n",
       "        [ 0.77859044],\n",
       "        [ 0.19699831],\n",
       "        [-0.6616018 ],\n",
       "        [ 0.22652172],\n",
       "        [ 0.00394639],\n",
       "        [-0.4495563 ],\n",
       "        [ 0.87404656],\n",
       "        [-1.1374843 ],\n",
       "        [-0.6737192 ],\n",
       "        [ 0.47479713],\n",
       "        [-0.16588116],\n",
       "        [-0.34204942],\n",
       "        [ 0.44232678],\n",
       "        [-0.26368415],\n",
       "        [ 0.7613237 ],\n",
       "        [-1.0864213 ],\n",
       "        [-1.2319396 ],\n",
       "        [ 0.97323567],\n",
       "        [-0.8909879 ],\n",
       "        [ 0.44608235],\n",
       "        [-0.56558096],\n",
       "        [-0.1495431 ],\n",
       "        [ 1.1814635 ],\n",
       "        [ 0.7320847 ],\n",
       "        [-0.91005737],\n",
       "        [ 0.9051668 ],\n",
       "        [-1.020466  ],\n",
       "        [ 0.40972883],\n",
       "        [ 0.10701919],\n",
       "        [-1.0102583 ],\n",
       "        [ 1.051007  ],\n",
       "        [-0.82599604],\n",
       "        [-0.48462564],\n",
       "        [ 0.2964868 ],\n",
       "        [-0.6050599 ],\n",
       "        [ 0.48971856],\n",
       "        [-1.0136309 ],\n",
       "        [-0.1199768 ],\n",
       "        [-1.0021298 ],\n",
       "        [-0.71593106],\n",
       "        [-1.0468032 ],\n",
       "        [ 0.29239598],\n",
       "        [-0.89987844],\n",
       "        [ 1.207915  ],\n",
       "        [-0.8708685 ],\n",
       "        [-0.21209131],\n",
       "        [ 0.8716642 ],\n",
       "        [-1.0106959 ],\n",
       "        [-0.65447915],\n",
       "        [ 0.2645395 ],\n",
       "        [-0.31949198],\n",
       "        [ 0.459381  ],\n",
       "        [-0.84340495],\n",
       "        [-0.5430124 ],\n",
       "        [-0.7360426 ],\n",
       "        [-0.34567323],\n",
       "        [-1.2928029 ],\n",
       "        [ 0.9854698 ],\n",
       "        [-0.41764486],\n",
       "        [ 0.82927626],\n",
       "        [-0.6447414 ],\n",
       "        [-0.9879321 ],\n",
       "        [-0.5354457 ],\n",
       "        [-0.62984276],\n",
       "        [ 1.0381237 ],\n",
       "        [ 0.9040896 ],\n",
       "        [-0.7444872 ],\n",
       "        [-1.2726219 ],\n",
       "        [-0.8891363 ],\n",
       "        [-0.8003881 ],\n",
       "        [ 0.8869913 ],\n",
       "        [-0.8438463 ],\n",
       "        [-0.9213684 ],\n",
       "        [ 0.5060841 ],\n",
       "        [-0.6636092 ],\n",
       "        [ 0.90417045],\n",
       "        [-0.9227989 ],\n",
       "        [-0.50388336],\n",
       "        [-1.6932493 ],\n",
       "        [-0.7422855 ],\n",
       "        [ 0.9911798 ],\n",
       "        [ 0.8053668 ],\n",
       "        [-0.7441266 ],\n",
       "        [-1.4545623 ],\n",
       "        [-0.7221525 ],\n",
       "        [-1.2539878 ],\n",
       "        [-0.95740885],\n",
       "        [-0.04018039],\n",
       "        [ 1.8978165 ],\n",
       "        [ 1.5799257 ],\n",
       "        [-0.984536  ]], dtype=float32)>,\n",
       " <tf.Variable 'dense/bias:0' shape=(1,) dtype=float32, numpy=array([-0.07664431], dtype=float32)>]"
      ]
     },
     "execution_count": 10,
     "metadata": {},
     "output_type": "execute_result"
    }
   ],
   "source": [
    "# Geting the weights\n",
    "model.weights"
   ]
  },
  {
   "cell_type": "code",
   "execution_count": 7,
   "id": "aeb7c3a2",
   "metadata": {},
   "outputs": [
    {
     "name": "stdout",
     "output_type": "stream",
     "text": [
      "782/782 [==============================] - 1s 758us/step\n"
     ]
    },
    {
     "data": {
      "text/plain": [
       "array([[0.31886822],\n",
       "       [0.717078  ],\n",
       "       [0.11740071],\n",
       "       ...,\n",
       "       [0.14986597],\n",
       "       [0.16367565],\n",
       "       [0.6968982 ]], dtype=float32)"
      ]
     },
     "execution_count": 7,
     "metadata": {},
     "output_type": "execute_result"
    }
   ],
   "source": [
    "# Prediction on test data\n",
    "model.predict(X_test)"
   ]
  },
  {
   "cell_type": "markdown",
   "id": "463551a4",
   "metadata": {},
   "source": [
    "### Model Evaluation"
   ]
  },
  {
   "cell_type": "code",
   "execution_count": 8,
   "id": "9361f98a",
   "metadata": {},
   "outputs": [
    {
     "name": "stdout",
     "output_type": "stream",
     "text": [
      "782/782 [==============================] - 1s 805us/step - loss: 0.5213 - accuracy: 0.7547\n"
     ]
    },
    {
     "data": {
      "text/plain": [
       "[0.521263062953949, 0.7547199726104736]"
      ]
     },
     "execution_count": 8,
     "metadata": {},
     "output_type": "execute_result"
    }
   ],
   "source": [
    "model.evaluate(X_test,y_test)"
   ]
  },
  {
   "cell_type": "markdown",
   "id": "fec83207",
   "metadata": {},
   "source": [
    "### Plotting [Accuracy & Validation accuracy] & [loss and validation loss] "
   ]
  },
  {
   "cell_type": "code",
   "execution_count": 9,
   "id": "5b82a521",
   "metadata": {},
   "outputs": [
    {
     "data": {
      "image/png": "[encoded data removed]",
      "text/plain": [
       "<Figure size 432x288 with 1 Axes>"
      ]
     },
     "metadata": {
      "needs_background": "light"
     },
     "output_type": "display_data"
    },
    {
     "data": {
      "image/png": "[encoded data removed]",
      "text/plain": [
       "<Figure size 432x288 with 1 Axes>"
      ]
     },
     "metadata": {
      "needs_background": "light"
     },
     "output_type": "display_data"
    }
   ],
   "source": [
    "import matplotlib.pyplot as plt\n",
    "\n",
    "accuracy     = history.history['accuracy']\n",
    "val_accuracy = history.history['val_accuracy']\n",
    "loss         = history.history['loss']\n",
    "val_loss     = history.history['val_loss']\n",
    "\n",
    "epochs = range(1,len(accuracy)+1)\n",
    "\n",
    "plt.plot(epochs,accuracy,'bo',label='accuracy')\n",
    "plt.plot(epochs,val_accuracy,'b',label='val_loss')\n",
    "plt.legend()\n",
    "\n",
    "plt.figure()\n",
    "plt.plot(epochs,loss,'bo',label='loss')\n",
    "plt.plot(epochs,val_loss,'b',label='val_loss')\n",
    "plt.legend()\n",
    "plt.show()"
   ]
  },
  {
   "cell_type": "code",
   "execution_count": null,
   "id": "7fe5daa5",
   "metadata": {},
   "outputs": [],
   "source": []
  }
 ],
 "metadata": {
  "kernelspec": {
   "display_name": "Python 3 (ipykernel)",
   "language": "python",
   "name": "python3"
  },
  "language_info": {
   "codemirror_mode": {
    "name": "ipython",
    "version": 3
   },
   "file_extension": ".py",
   "mimetype": "text/x-python",
   "name": "python",
   "nbconvert_exporter": "python",
   "pygments_lexer": "ipython3",
   "version": "3.9.7"
  }
 },
 "nbformat": 4,
 "nbformat_minor": 5
}
